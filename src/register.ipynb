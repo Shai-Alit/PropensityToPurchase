{
 "cells": [
  {
   "cell_type": "code",
   "execution_count": 2,
   "metadata": {},
   "outputs": [
    {
     "name": "stdout",
     "output_type": "stream",
     "text": [
      "Overwriting /workspaces/mainstorage/github/PropensityToPurchase/src/scoreModel.py\n"
     ]
    }
   ],
   "source": [
    "%%writefile /workspaces/mainstorage/github/PropensityToPurchase/src/scoreModel.py\n",
    "import numpy as np\n",
    "import pickle\n",
    "import pandas as pd\n",
    "import settings\n",
    "from sklearn.linear_model import LogisticRegression\n",
    "\n",
    "def scoreModel(RecencyScore,FrequencyScore,MonetaryScore):\n",
    "    \"Output: EM_CLASSIFICATION,EM_PROBABILITY,py_ERROR\"\n",
    "    py_ERROR=\"No Errors or Warnings.\"\n",
    "    EM_CLASSIFICATION = str(0)\n",
    "    EM_PROBABILITY = -1\n",
    "    ## Load pickled model\n",
    "    try:\n",
    "        dm_model\n",
    "    except NameError:\n",
    "        model = open(settings.pickle_path+'/logreg.pickle', 'rb')\n",
    "        dm_model = pickle.load(model)\n",
    "        model.close()\n",
    "\n",
    "    try:\n",
    "        x = pd.DataFrame([[RecencyScore,FrequencyScore,MonetaryScore]],columns = [\"RecencyScore\",\"FrequencyScore\",\"MonetaryScore\"])\n",
    "        preds = dm_model.predict(x)\n",
    "        probs = dm_model.predict_proba(x)\n",
    "        EM_CLASSIFICATION = str(preds[0])\n",
    "        EM_PROBABILITY = float(probs[0,preds[0]])\n",
    "    except Exception as error:\n",
    "        py_ERROR = str(error)\n",
    "        print(error)\n",
    "\n",
    "\n",
    "    return EM_CLASSIFICATION,EM_PROBABILITY,py_ERROR\n"
   ]
  }
 ],
 "metadata": {
  "kernelspec": {
   "display_name": "Python 3",
   "language": "python",
   "name": "python3"
  },
  "language_info": {
   "codemirror_mode": {
    "name": "ipython",
    "version": 3
   },
   "file_extension": ".py",
   "mimetype": "text/x-python",
   "name": "python",
   "nbconvert_exporter": "python",
   "pygments_lexer": "ipython3",
   "version": "3.11.11"
  }
 },
 "nbformat": 4,
 "nbformat_minor": 2
}
